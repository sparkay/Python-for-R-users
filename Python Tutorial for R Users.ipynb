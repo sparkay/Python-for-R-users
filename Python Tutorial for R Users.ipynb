{
 "cells": [
  {
   "cell_type": "markdown",
   "metadata": {},
   "source": [
    "# Introduction\n",
    "This is a Python tutorial for established R data analysts. If you are already comfortable with Data Analysis/Science in R, and want to add Python to your toolbox, it can be difficult to find a tutorial that will get you started quickly and efficiently. Most tutorials out there either assume you have very limited programming experience or are oriented toward established programmers but include far more than you need to know to get started on a data anlaysis problem. Folks who have been doing analysis in R for years probably don't need to spend 30 minutes on basic data types and loop structures. They just need to know Python's specific syntax and quirks. Data scientists also probably don't (initially) need to know all the ins and outs of writing an X, Y, or Z in Python. They just want to know how to read a file into the pandas data format and where to find a good regression (or ML or clustering etc.) library.\n",
    "\n",
    "This tutorial rifs off Trevor Stephens' excellent Kaggle Titanic walkthrough, and along the way shows how R concepts translate into Python. \n",
    "\n",
    "### Disclaimer\n",
    "This author is releatively new to Python. There are likely better ways to do some of the things I will show you. I will be updating this tutorial as I learn more myself."
   ]
  },
  {
   "cell_type": "markdown",
   "metadata": {},
   "source": [
    "# Setup\n",
    "## or What is the Equivalent of RStudio in Python\n",
    "When you are setting up a new machine for analysis in R, you typically download and install the R kernel, RStudio, and then install a slew of common packages from CRAN. For Python, just download and install Anaconda. this will give you the Python interpreter, the Jupyter notebook interface, and a very long list of analysis libraries. Here's a quick recap:\n",
    "R | Python\n",
    "__________________________________\n",
    "R interpreter | Python interpreter^a^\n",
    "RStudio | Jupyter notebook^a^\n",
    "dplyr + tidyr | pandas^a^\n",
    "ggplot2 + Rcolorbrewer | matplotlib + seaborn + (whatelse?)^a^\n",
    "(analysis package?) | (analysis package?)^a^^b^\n",
    "\n",
    "a - all included in the Anaconda distribtuion of Python\n",
    "b - With the default settings, installing new Python packages, so that they are available to the interpreter, requires Administrator privaleges in Windows. If this is an issue in your setting, there are some potential workarounds out there on the web. Luckily, everything you need to get started with Data Science in Python is already incdlued in Anaconda - admin once and done."
   ]
  },
  {
   "cell_type": "markdown",
   "metadata": {},
   "source": [
    "# Python quirks\n",
    "## Basic Syntax\n",
    "Category | R | Python\n",
    "_______________\n",
    "Comments | # | #\n",
    "Assignment | <- | =\n",
    "Equality | == | ==\n",
    "Control Blocks | {} | Indentation\n",
    "Loading Pacakges | library(pkg_x) | import pkg_x as alias_x\n",
    "\n",
    "\n",
    "## Basic Data Structures\n",
    "In addition to your usual primatives (int, float, str, bool), Python uses lists and the related dicts. Lists and dicts are somewhat like lists and dataframes in R. The pandas library in Python, which borrows many concepts from dplyr, makes the comparison even closer.\n",
    "\n",
    "## Factors\n",
    "anything to say here?\n",
    "\n",
    "## Referencing versus Assignment\n",
    "The distincting between referencing a list and assigning a new list is perhaps the most important thing to keep in mind when using Python to analyze data. Unlike R, which creates a new copy of your variable almost everytime you operate on that variable [link to advanced R explanation], Python defaults to pointing to the location of a list variable in memory and only operating on that one copy. This is far more efficient in terms of memory usage, but can lead to unexpected results. \n",
    "\n",
    "To create a new copy of a list, copy the contents of the list to a new variable like so"
   ]
  },
  {
   "cell_type": "code",
   "execution_count": 7,
   "metadata": {
    "collapsed": true
   },
   "outputs": [],
   "source": [
    "x = [1, 2, 3] #first list variable\n",
    "y = x[:] #new, second list variable with same content as x\n",
    "z = x #pointer back to x"
   ]
  },
  {
   "cell_type": "markdown",
   "metadata": {},
   "source": [
    "Lets demonstrate the difference between x, y and z:"
   ]
  },
  {
   "cell_type": "code",
   "execution_count": 8,
   "metadata": {
    "collapsed": false,
    "scrolled": true
   },
   "outputs": [
    {
     "name": "stdout",
     "output_type": "stream",
     "text": [
      "[1, 2, 3] [1, 2, 3] [1, 2, 3]\n",
      "[1, 2, 3] [1, 'a', 3] [1, 2, 3]\n",
      "[1, 2, 'z'] [1, 'a', 3] [1, 2, 'z']\n"
     ]
    }
   ],
   "source": [
    "print(x, y, z) #initial values in each variable\n",
    "y[1] = \"a\" #change y\n",
    "print(x, y, z) #note change in y\n",
    "z[2] = \"z\"\n",
    "print(x, y ,z) #note change in z AND x"
   ]
  },
  {
   "cell_type": "markdown",
   "metadata": {},
   "source": [
    "## Object Oriented Programing\n",
    "Python also relies heavily on object oriented programming. You can spend years working in R and never have to worry about this concept."
   ]
  },
  {
   "cell_type": "markdown",
   "metadata": {},
   "source": [
    "# Titanic Walkthrough\n",
    "Trevor Stephens' original: http://trevorstephens.com/kaggle-titanic-tutorial/getting-started-with-r/\n",
    "\n",
    "## Step 1: Load the Training Data\n",
    "Compared to all of the settings you need to check with read.delim in R, loading data into pandas is ridiculously easy:"
   ]
  },
  {
   "cell_type": "code",
   "execution_count": 25,
   "metadata": {
    "collapsed": false
   },
   "outputs": [
    {
     "name": "stdout",
     "output_type": "stream",
     "text": [
      "   PassengerId  Survived  Pclass  \\\n",
      "0            1         0       3   \n",
      "1            2         1       1   \n",
      "2            3         1       3   \n",
      "3            4         1       1   \n",
      "4            5         0       3   \n",
      "\n",
      "                                                Name     Sex   Age  SibSp  \\\n",
      "0                            Braund, Mr. Owen Harris    male  22.0      1   \n",
      "1  Cumings, Mrs. John Bradley (Florence Briggs Th...  female  38.0      1   \n",
      "2                             Heikkinen, Miss. Laina  female  26.0      0   \n",
      "3       Futrelle, Mrs. Jacques Heath (Lily May Peel)  female  35.0      1   \n",
      "4                           Allen, Mr. William Henry    male  35.0      0   \n",
      "\n",
      "   Parch            Ticket     Fare Cabin Embarked  \n",
      "0      0         A/5 21171   7.2500   NaN        S  \n",
      "1      0          PC 17599  71.2833   C85        C  \n",
      "2      0  STON/O2. 3101282   7.9250   NaN        S  \n",
      "3      0            113803  53.1000  C123        S  \n",
      "4      0            373450   8.0500   NaN        S  \n"
     ]
    }
   ],
   "source": [
    "import os\n",
    "import pandas as pd\n",
    "os.chdir(\"O:\\\\PDES\\\\PRISM\\\\Sullivan\\\\Kaggle\\\\Titanic\") #make sure we're looking in the right place\n",
    "dta_train = pd.read_csv(\"train.csv\")\n",
    "print(dta_train.head()) #look at the first few rows"
   ]
  },
  {
   "cell_type": "markdown",
   "metadata": {},
   "source": [
    "### Getting to know the training data\n"
   ]
  },
  {
   "cell_type": "code",
   "execution_count": 32,
   "metadata": {
    "collapsed": false
   },
   "outputs": [
    {
     "data": {
      "text/plain": [
       "count    891.000000\n",
       "mean       0.383838\n",
       "std        0.486592\n",
       "min        0.000000\n",
       "25%        0.000000\n",
       "50%        0.000000\n",
       "75%        1.000000\n",
       "max        1.000000\n",
       "Name: Survived, dtype: float64"
      ]
     },
     "execution_count": 32,
     "metadata": {},
     "output_type": "execute_result"
    }
   ],
   "source": [
    "dta_train['Survived'].describe()"
   ]
  },
  {
   "cell_type": "code",
   "execution_count": 33,
   "metadata": {
    "collapsed": false
   },
   "outputs": [
    {
     "ename": "ImportError",
     "evalue": "No module named 'seaborn'",
     "output_type": "error",
     "traceback": [
      "\u001b[1;31m---------------------------------------------------------------------------\u001b[0m",
      "\u001b[1;31mImportError\u001b[0m                               Traceback (most recent call last)",
      "\u001b[1;32m<ipython-input-33-d4acb16d6e9c>\u001b[0m in \u001b[0;36m<module>\u001b[1;34m()\u001b[0m\n\u001b[1;32m----> 1\u001b[1;33m \u001b[1;32mimport\u001b[0m \u001b[0mseaborn\u001b[0m \u001b[1;32mas\u001b[0m \u001b[0msb\u001b[0m\u001b[1;33m\u001b[0m\u001b[0m\n\u001b[0m",
      "\u001b[1;31mImportError\u001b[0m: No module named 'seaborn'"
     ]
    }
   ],
   "source": [
    "import seaborn as sns"
   ]
  }
 ],
 "metadata": {
  "kernelspec": {
   "display_name": "Python 3",
   "language": "python",
   "name": "python3"
  },
  "language_info": {
   "codemirror_mode": {
    "name": "ipython",
    "version": 3
   },
   "file_extension": ".py",
   "mimetype": "text/x-python",
   "name": "python",
   "nbconvert_exporter": "python",
   "pygments_lexer": "ipython3",
   "version": "3.5.1"
  }
 },
 "nbformat": 4,
 "nbformat_minor": 0
}
