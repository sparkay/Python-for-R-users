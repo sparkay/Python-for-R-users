{
 "cells": [
  {
   "cell_type": "markdown",
   "metadata": {},
   "source": [
    "# Introduction\n",
    "This is a Python tutorial for established (and impatient) R data analysts. If you are already comfortable with Data Analysis/Science in R, and want to add Python to your toolbox, it can be difficult to find a tutorial that will get you started quickly and efficiently. Most tutorials out there either assume you have very limited programming experience or are oriented toward established programmers but include far more than you need to know to get started on a data anlaysis problem. Folks who have been doing analysis in R for years probably don't need to spend 30 minutes on basic data types and loop structures. They just need to know Python's specific syntax and quirks. Data scientists also probably don't (initially) need to know all the ins and outs of writing an X, Y, or Z in Python. They just want to know how to read a file into the pandas data format and where to find a good regression (or ML or clustering etc.) library.\n",
    "\n",
    "This tutorial rifs off Trevor Stephens' excellent Kaggle Titanic walkthrough, and along the way shows how R concepts translate into Python. \n",
    "\n",
    "### Disclaimer\n",
    "This author is releatively new to Python. There are likely better ways to do some of the things I will show you. I will be updating this tutorial as I learn more myself."
   ]
  },
  {
   "cell_type": "markdown",
   "metadata": {},
   "source": [
    "# Setup\n",
    "## or What is the Equivalent of RStudio in Python\n",
    "When you are setting up a new machine for analysis in R, you typically download and install the R kernel, RStudio, and then install a slew of common packages from CRAN. For Python, just download and install Anaconda. this will give you the Python interpreter, the Jupyter notebook interface, and a very long list of analysis libraries. Here's a quick recap:\n",
    "\n",
    "R | Python\n",
    "---|---\n",
    "R interpreter | Python interpreter^a^\n",
    "RStudio | Jupyter notebook^a^\n",
    "dplyr + tidyr | pandas^a^\n",
    "ggplot2 + Rcolorbrewer | matplotlib + seaborn + (whatelse?)^a^\n",
    "(analysis package?) | (analysis package?)^a^^b^\n",
    "\n",
    "a - all included in the Anaconda distribtuion of Python\n",
    "b - With the default settings, installing new Python packages, so that they are available to the interpreter, requires Administrator privaleges in Windows. If this is an issue in your setting, there are some potential workarounds out there on the web. Luckily, everything you need to get started with Data Science in Python is already incdlued in Anaconda - admin once and done."
   ]
  },
  {
   "cell_type": "markdown",
   "metadata": {},
   "source": [
    "# Python quirks\n",
    "## Basic Syntax\n",
    "Category | R | Python\n",
    "---|---|---\n",
    "Comments | # | #\n",
    "Assignment | <- | =\n",
    "Equality | == | ==\n",
    "Control Blocks | {} | Indentation\n",
    "Loading Pacakges | library(pkg_x) | import pkg_x as alias_x\n",
    "\n",
    "\n",
    "## Basic Data Structures\n",
    "In addition to your usual primatives (int, float, str, bool), Python uses lists and the related dicts. Lists and dicts are somewhat like lists and dataframes in R. The pandas library in Python, which borrows many concepts from dplyr, makes the comparison even closer.\n",
    "\n",
    "## Factors\n",
    "anything to say here?\n",
    "\n",
    "## Referencing versus Assignment\n",
    "The distincting between referencing a list and assigning a new list is perhaps the most important thing to keep in mind when using Python to analyze data. Unlike R, which creates a new copy of your variable almost everytime you operate on that variable [link to advanced R explanation], Python defaults to pointing to the location of a list variable in memory and only operating on that one copy. This is far more efficient in terms of memory usage, but can lead to unexpected results. \n",
    "\n",
    "To create a new copy of a list, copy the contents of the list to a new variable like so"
   ]
  },
  {
   "cell_type": "code",
   "execution_count": 3,
   "metadata": {
    "collapsed": true
   },
   "outputs": [],
   "source": [
    "x = [1, 2, 3] #first list variable\n",
    "y = x[:] #new, second list variable with same content as x\n",
    "z = x #pointer back to x"
   ]
  },
  {
   "cell_type": "markdown",
   "metadata": {},
   "source": [
    "Lets demonstrate the difference between x, y and z:"
   ]
  },
  {
   "cell_type": "code",
   "execution_count": 4,
   "metadata": {
    "scrolled": true
   },
   "outputs": [
    {
     "name": "stdout",
     "output_type": "stream",
     "text": [
      "[1, 2, 3] [1, 2, 3] [1, 2, 3]\n",
      "[1, 2, 3] [1, 'a', 3] [1, 2, 3]\n",
      "[1, 2, 'z'] [1, 'a', 3] [1, 2, 'z']\n"
     ]
    }
   ],
   "source": [
    "print(x, y, z) #initial values in each variable\n",
    "y[1] = \"a\" #change y\n",
    "print(x, y, z) #note change in y\n",
    "z[2] = \"z\"\n",
    "print(x, y ,z) #note change in z AND x"
   ]
  },
  {
   "cell_type": "markdown",
   "metadata": {},
   "source": [
    "## Object Oriented Programing\n",
    "Python also relies heavily on object oriented programming. You can spend years working in R and never have to worry about this concept."
   ]
  },
  {
   "cell_type": "markdown",
   "metadata": {},
   "source": [
    "# Titanic Walkthrough\n",
    "Trevor Stephens' original: http://trevorstephens.com/kaggle-titanic-tutorial/getting-started-with-r/\n",
    "\n",
    "## Step 1: Load the Training Data\n",
    "Compared to all of the settings you need to check with read.delim in R, loading data into pandas is ridiculously easy:"
   ]
  },
  {
   "cell_type": "code",
   "execution_count": 5,
   "metadata": {},
   "outputs": [
    {
     "name": "stdout",
     "output_type": "stream",
     "text": [
      "   PassengerId  Survived  Pclass  \\\n",
      "0            1         0       3   \n",
      "1            2         1       1   \n",
      "2            3         1       3   \n",
      "3            4         1       1   \n",
      "4            5         0       3   \n",
      "\n",
      "                                                Name     Sex   Age  SibSp  \\\n",
      "0                            Braund, Mr. Owen Harris    male  22.0      1   \n",
      "1  Cumings, Mrs. John Bradley (Florence Briggs Th...  female  38.0      1   \n",
      "2                             Heikkinen, Miss. Laina  female  26.0      0   \n",
      "3       Futrelle, Mrs. Jacques Heath (Lily May Peel)  female  35.0      1   \n",
      "4                           Allen, Mr. William Henry    male  35.0      0   \n",
      "\n",
      "   Parch            Ticket     Fare Cabin Embarked  \n",
      "0      0         A/5 21171   7.2500   NaN        S  \n",
      "1      0          PC 17599  71.2833   C85        C  \n",
      "2      0  STON/O2. 3101282   7.9250   NaN        S  \n",
      "3      0            113803  53.1000  C123        S  \n",
      "4      0            373450   8.0500   NaN        S  \n"
     ]
    }
   ],
   "source": [
    "import os\n",
    "import pandas as pd\n",
    "os.chdir(\"O:\\\\PDES\\\\PRISM\\\\Sullivan\\\\Kaggle\\\\Titanic\") #make sure we're looking in the right place\n",
    "dta_train = pd.read_csv(\"train.csv\")\n",
    "print(dta_train.head()) #look at the first few rows"
   ]
  },
  {
   "cell_type": "markdown",
   "metadata": {},
   "source": [
    "### Getting to know the training data\n",
    "DataFrames have an index (aka row names) and column names. Values can be retrieve using the index and column name via the \"loc\" proprety, or they can be retrieved by position (0-indexed) using the \"iloc\" property. Good summary here: https://www.datacamp.com/community/tutorials/pandas-tutorial-dataframe-python#question2\n"
   ]
  },
  {
   "cell_type": "code",
   "execution_count": 6,
   "metadata": {},
   "outputs": [
    {
     "name": "stdout",
     "output_type": "stream",
     "text": [
      "   48  49  50\n",
      "2   1   2   3\n",
      "A   4   5   6\n",
      "4   7   8   9\n",
      "2\n",
      "2\n",
      "2\n"
     ]
    }
   ],
   "source": [
    "#Simple Example\n",
    "import numpy as np\n",
    "df = pd.DataFrame(data=np.array([[1, 2, 3], [4, 5, 6], [7, 8, 9]]), index= [2, 'A', 4], columns=[48, 49, 50])\n",
    "print(df)\n",
    "#these should all select the element in the first row, second column\n",
    "print(df.iloc[0,1])\n",
    "#print(df.iloc[0][1]) #this doesn't work, although several tutorials suggest that it should\n",
    "print(df.loc[2][49])\n",
    "print(df.loc[2,49])"
   ]
  },
  {
   "cell_type": "code",
   "execution_count": 7,
   "metadata": {},
   "outputs": [
    {
     "name": "stdout",
     "output_type": "stream",
     "text": [
      "0        1\n",
      "1        2\n",
      "2        3\n",
      "3        4\n",
      "4        5\n",
      "5        6\n",
      "6        7\n",
      "7        8\n",
      "8        9\n",
      "9       10\n",
      "10      11\n",
      "11      12\n",
      "12      13\n",
      "13      14\n",
      "14      15\n",
      "15      16\n",
      "16      17\n",
      "17      18\n",
      "18      19\n",
      "19      20\n",
      "20      21\n",
      "21      22\n",
      "22      23\n",
      "23      24\n",
      "24      25\n",
      "25      26\n",
      "26      27\n",
      "27      28\n",
      "28      29\n",
      "29      30\n",
      "      ... \n",
      "861    862\n",
      "862    863\n",
      "863    864\n",
      "864    865\n",
      "865    866\n",
      "866    867\n",
      "867    868\n",
      "868    869\n",
      "869    870\n",
      "870    871\n",
      "871    872\n",
      "872    873\n",
      "873    874\n",
      "874    875\n",
      "875    876\n",
      "876    877\n",
      "877    878\n",
      "878    879\n",
      "879    880\n",
      "880    881\n",
      "881    882\n",
      "882    883\n",
      "883    884\n",
      "884    885\n",
      "885    886\n",
      "886    887\n",
      "887    888\n",
      "888    889\n",
      "889    890\n",
      "890    891\n",
      "Name: PassengerId, Length: 891, dtype: int64\n",
      "0        1\n",
      "1        2\n",
      "2        3\n",
      "3        4\n",
      "4        5\n",
      "5        6\n",
      "6        7\n",
      "7        8\n",
      "8        9\n",
      "9       10\n",
      "10      11\n",
      "11      12\n",
      "12      13\n",
      "13      14\n",
      "14      15\n",
      "15      16\n",
      "16      17\n",
      "17      18\n",
      "18      19\n",
      "19      20\n",
      "20      21\n",
      "21      22\n",
      "22      23\n",
      "23      24\n",
      "24      25\n",
      "25      26\n",
      "26      27\n",
      "27      28\n",
      "28      29\n",
      "29      30\n",
      "      ... \n",
      "861    862\n",
      "862    863\n",
      "863    864\n",
      "864    865\n",
      "865    866\n",
      "866    867\n",
      "867    868\n",
      "868    869\n",
      "869    870\n",
      "870    871\n",
      "871    872\n",
      "872    873\n",
      "873    874\n",
      "874    875\n",
      "875    876\n",
      "876    877\n",
      "877    878\n",
      "878    879\n",
      "879    880\n",
      "880    881\n",
      "881    882\n",
      "882    883\n",
      "883    884\n",
      "884    885\n",
      "885    886\n",
      "886    887\n",
      "887    888\n",
      "888    889\n",
      "889    890\n",
      "890    891\n",
      "Name: PassengerId, Length: 891, dtype: int64\n"
     ]
    }
   ],
   "source": [
    "#Seleccting entire rows or columns\n",
    "#to get the entire PassengerId column use either\n",
    "print(dta_train.iloc[:,0]) #position based\n",
    "#or \n",
    "print(dta_train.loc[:,'PassengerId']) #label based\n",
    "#as with the simple example above, loc will work using the 2-bracket syntax: df.loc[:]['A'] but iloc will not work with df.iloc[:][0]"
   ]
  },
  {
   "cell_type": "markdown",
   "metadata": {},
   "source": [
    "## Step 2: Preparing Data\n",
    "Unlike R, pandas will not automatically create factors out of string variables. \n"
   ]
  },
  {
   "cell_type": "markdown",
   "metadata": {},
   "source": [
    "## Step 2.1 :Visualizing Data\n",
    "To show the histogram of passenger class versus survival in matplotlib we would need to create an overlaid_histogram - essentially one histogram for the survived = 1 population and one histogram for the survived = 0 population. This is not nearly as friendly as just specifying the color grouping in ggplot. But seaborn can rescue us."
   ]
  },
  {
   "cell_type": "code",
   "execution_count": 13,
   "metadata": {},
   "outputs": [
    {
     "data": {
      "text/plain": [
       "<matplotlib.axes._subplots.AxesSubplot at 0xaaeba20>"
      ]
     },
     "execution_count": 13,
     "metadata": {},
     "output_type": "execute_result"
    },
    {
     "data": {
      "image/png": "[encoded data removed]",
      "text/plain": [
       "<matplotlib.figure.Figure at 0xab06f60>"
      ]
     },
     "metadata": {},
     "output_type": "display_data"
    }
   ],
   "source": [
    "import seaborn as sns\n",
    "%matplotlib inline\n",
    "sns.countplot(x='Pclass', hue='Survived', data=dta_train)"
   ]
  },
  {
   "cell_type": "markdown",
   "metadata": {},
   "source": [
    "Note that if you want this as a stacked bar chart... well, that's still hard.\n",
    "Also note Quirk 1: Plots generated by matplotlib/seaborn need to be explicitly displayed. This is analagous to using print() to show results in the output pane. Ipyhon \"magics\" can take care of this in one fell swoop."
   ]
  }
 ],
 "metadata": {
  "kernelspec": {
   "display_name": "Python 3",
   "language": "python",
   "name": "python3"
  },
  "language_info": {
   "codemirror_mode": {
    "name": "ipython",
    "version": 3
   },
   "file_extension": ".py",
   "mimetype": "text/x-python",
   "name": "python",
   "nbconvert_exporter": "python",
   "pygments_lexer": "ipython3",
   "version": "3.5.1"
  }
 },
 "nbformat": 4,
 "nbformat_minor": 1
}
